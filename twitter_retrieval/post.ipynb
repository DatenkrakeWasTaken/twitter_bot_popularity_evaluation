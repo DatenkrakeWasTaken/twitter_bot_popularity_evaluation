{
 "cells": [
  {
   "cell_type": "code",
   "execution_count": 3,
   "id": "9243bdd5",
   "metadata": {},
   "outputs": [],
   "source": [
    "import tweepy\n",
    "import keyring"
   ]
  },
  {
   "cell_type": "code",
   "execution_count": 68,
   "id": "80560786",
   "metadata": {},
   "outputs": [],
   "source": [
    "client = tweepy.Client(keyring.get_password('twitter','bearer_token'), keyring.get_password('twitter','api_key'), keyring.get_password('twitter','api_key_secret'), keyring.get_password('twitter','access_token'), keyring.get_password('twitter','access_token_secret'))        "
   ]
  },
  {
   "cell_type": "code",
   "execution_count": 69,
   "id": "5df76cef",
   "metadata": {},
   "outputs": [
    {
     "data": {
      "text/plain": [
       "Response(data={'id': '1505978638856036357', 'text': 'this is a test'}, includes={}, errors=[], meta={})"
      ]
     },
     "execution_count": 69,
     "metadata": {},
     "output_type": "execute_result"
    }
   ],
   "source": [
    "client.create_tweet(text='this is a test')"
   ]
  },
  {
   "cell_type": "code",
   "execution_count": 1,
   "id": "5f51923c",
   "metadata": {},
   "outputs": [
    {
     "ename": "NameError",
     "evalue": "name 'tweepy' is not defined",
     "output_type": "error",
     "traceback": [
      "\u001b[1;31m---------------------------------------------------------------------------\u001b[0m",
      "\u001b[1;31mNameError\u001b[0m                                 Traceback (most recent call last)",
      "\u001b[1;32m~\\AppData\\Local\\Temp/ipykernel_12884/832318501.py\u001b[0m in \u001b[0;36m<module>\u001b[1;34m\u001b[0m\n\u001b[1;32m----> 1\u001b[1;33m \u001b[0mauth\u001b[0m \u001b[1;33m=\u001b[0m \u001b[0mtweepy\u001b[0m\u001b[1;33m.\u001b[0m\u001b[0mOAuthHandler\u001b[0m\u001b[1;33m(\u001b[0m\u001b[0mkeyring\u001b[0m\u001b[1;33m.\u001b[0m\u001b[0mget_password\u001b[0m\u001b[1;33m(\u001b[0m\u001b[1;34m'twitter'\u001b[0m\u001b[1;33m,\u001b[0m\u001b[1;34m'api_key'\u001b[0m\u001b[1;33m)\u001b[0m\u001b[1;33m,\u001b[0m \u001b[0mkeyring\u001b[0m\u001b[1;33m.\u001b[0m\u001b[0mget_password\u001b[0m\u001b[1;33m(\u001b[0m\u001b[1;34m'twitter'\u001b[0m\u001b[1;33m,\u001b[0m\u001b[1;34m'api_key_secret'\u001b[0m\u001b[1;33m)\u001b[0m\u001b[1;33m)\u001b[0m\u001b[1;33m\u001b[0m\u001b[1;33m\u001b[0m\u001b[0m\n\u001b[0m\u001b[0;32m      2\u001b[0m \u001b[0mauth\u001b[0m\u001b[1;33m.\u001b[0m\u001b[0mset_access_token\u001b[0m\u001b[1;33m(\u001b[0m\u001b[0mkeyring\u001b[0m\u001b[1;33m.\u001b[0m\u001b[0mget_password\u001b[0m\u001b[1;33m(\u001b[0m\u001b[1;34m'twitter'\u001b[0m\u001b[1;33m,\u001b[0m\u001b[1;34m'access_token'\u001b[0m\u001b[1;33m)\u001b[0m\u001b[1;33m,\u001b[0m \u001b[0mkeyring\u001b[0m\u001b[1;33m.\u001b[0m\u001b[0mget_password\u001b[0m\u001b[1;33m(\u001b[0m\u001b[1;34m'twitter'\u001b[0m\u001b[1;33m,\u001b[0m\u001b[1;34m'access_token_secret'\u001b[0m\u001b[1;33m)\u001b[0m\u001b[1;33m)\u001b[0m\u001b[1;33m\u001b[0m\u001b[1;33m\u001b[0m\u001b[0m\n\u001b[0;32m      3\u001b[0m \u001b[0mapi\u001b[0m \u001b[1;33m=\u001b[0m \u001b[0mtweepy\u001b[0m\u001b[1;33m.\u001b[0m\u001b[0mAPI\u001b[0m\u001b[1;33m(\u001b[0m\u001b[0mauth\u001b[0m\u001b[1;33m)\u001b[0m\u001b[1;33m\u001b[0m\u001b[1;33m\u001b[0m\u001b[0m\n",
      "\u001b[1;31mNameError\u001b[0m: name 'tweepy' is not defined"
     ]
    }
   ],
   "source": [
    "auth = tweepy.OAuthHandler(keyring.get_password('twitter','api_key'), keyring.get_password('twitter','api_key_secret'))\n",
    "auth.set_access_token(keyring.get_password('twitter','access_token'), keyring.get_password('twitter','access_token_secret'))\n",
    "api = tweepy.API(auth)"
   ]
  },
  {
   "cell_type": "code",
   "execution_count": 73,
   "id": "e08a22ef",
   "metadata": {},
   "outputs": [],
   "source": [
    "media = api.media_upload('1.jpg')"
   ]
  },
  {
   "cell_type": "code",
   "execution_count": 74,
   "id": "58b191c7",
   "metadata": {},
   "outputs": [
    {
     "data": {
      "text/plain": [
       "1505984333991010308"
      ]
     },
     "execution_count": 74,
     "metadata": {},
     "output_type": "execute_result"
    }
   ],
   "source": [
    "media.media_id"
   ]
  },
  {
   "cell_type": "code",
   "execution_count": 75,
   "id": "6b52a92b",
   "metadata": {},
   "outputs": [
    {
     "data": {
      "text/plain": [
       "Response(data={'id': '1505984580343508992', 'text': 'look at this picture! https://t.co/tDutEec6yW'}, includes={}, errors=[], meta={})"
      ]
     },
     "execution_count": 75,
     "metadata": {},
     "output_type": "execute_result"
    }
   ],
   "source": [
    "client.create_tweet(text='look at this picture!', media_ids=[media.media_id])"
   ]
  },
  {
   "cell_type": "code",
   "execution_count": null,
   "id": "f074c031",
   "metadata": {},
   "outputs": [],
   "source": []
  }
 ],
 "metadata": {
  "kernelspec": {
   "display_name": "Python 3 (ipykernel)",
   "language": "python",
   "name": "python3"
  },
  "language_info": {
   "codemirror_mode": {
    "name": "ipython",
    "version": 3
   },
   "file_extension": ".py",
   "mimetype": "text/x-python",
   "name": "python",
   "nbconvert_exporter": "python",
   "pygments_lexer": "ipython3",
   "version": "3.8.12"
  },
  "toc": {
   "base_numbering": 1,
   "nav_menu": {},
   "number_sections": true,
   "sideBar": true,
   "skip_h1_title": false,
   "title_cell": "Table of Contents",
   "title_sidebar": "Contents",
   "toc_cell": false,
   "toc_position": {},
   "toc_section_display": true,
   "toc_window_display": false
  }
 },
 "nbformat": 4,
 "nbformat_minor": 5
}
