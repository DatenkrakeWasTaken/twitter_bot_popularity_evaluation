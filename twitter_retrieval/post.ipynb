{
 "cells": [
  {
   "cell_type": "code",
   "execution_count": 3,
   "id": "f6b3b741",
   "metadata": {},
   "outputs": [],
   "source": [
    "import tweepy\n",
    "import keyring"
   ]
  },
  {
   "cell_type": "code",
   "execution_count": 68,
   "id": "62c58983",
   "metadata": {},
   "outputs": [],
   "source": [
    "client = tweepy.Client(keyring.get_password('twitter','bearer_token'), keyring.get_password('twitter','api_key'), keyring.get_password('twitter','api_key_secret'), keyring.get_password('twitter','access_token'), keyring.get_password('twitter','access_token_secret'))        "
   ]
  },
  {
   "cell_type": "code",
   "execution_count": 69,
   "id": "51d1f79b",
   "metadata": {},
   "outputs": [
    {
     "data": {
      "text/plain": [
       "Response(data={'id': '1505978638856036357', 'text': 'this is a test'}, includes={}, errors=[], meta={})"
      ]
     },
     "execution_count": 69,
     "metadata": {},
     "output_type": "execute_result"
    }
   ],
   "source": [
    "client.create_tweet(text='this is a test')"
   ]
  },
  {
   "cell_type": "code",
   "execution_count": 71,
   "id": "0918e661",
   "metadata": {},
   "outputs": [],
   "source": [
    "auth = tweepy.OAuthHandler(keyring.get_password('twitter','api_key'), keyring.get_password('twitter','api_key_secret'))\n",
    "auth.set_access_token(keyring.get_password('twitter','access_token'), keyring.get_password('twitter','access_token_secret'))\n",
    "api = tweepy.API(auth)"
   ]
  },
  {
   "cell_type": "code",
   "execution_count": 73,
   "id": "73fea179",
   "metadata": {},
   "outputs": [],
   "source": [
    "media = api.media_upload('pexels-valeria-boltneva-1805164.jpg')"
   ]
  },
  {
   "cell_type": "code",
   "execution_count": 74,
   "id": "80d2cd3a",
   "metadata": {},
   "outputs": [
    {
     "data": {
      "text/plain": [
       "1505984333991010308"
      ]
     },
     "execution_count": 74,
     "metadata": {},
     "output_type": "execute_result"
    }
   ],
   "source": [
    "media.media_id"
   ]
  },
  {
   "cell_type": "code",
   "execution_count": 75,
   "id": "b09d2713",
   "metadata": {},
   "outputs": [
    {
     "data": {
      "text/plain": [
       "Response(data={'id': '1505984580343508992', 'text': 'look at this picture! https://t.co/tDutEec6yW'}, includes={}, errors=[], meta={})"
      ]
     },
     "execution_count": 75,
     "metadata": {},
     "output_type": "execute_result"
    }
   ],
   "source": [
    "client.create_tweet(text='look at this picture!', media_ids=[media.media_id])"
   ]
  },
  {
   "cell_type": "code",
   "execution_count": null,
   "id": "f5f67a46",
   "metadata": {},
   "outputs": [],
   "source": []
  }
 ],
 "metadata": {
  "kernelspec": {
   "display_name": "Python 3 (ipykernel)",
   "language": "python",
   "name": "python3"
  },
  "language_info": {
   "codemirror_mode": {
    "name": "ipython",
    "version": 3
   },
   "file_extension": ".py",
   "mimetype": "text/x-python",
   "name": "python",
   "nbconvert_exporter": "python",
   "pygments_lexer": "ipython3",
   "version": "3.8.12"
  },
  "toc": {
   "base_numbering": 1,
   "nav_menu": {},
   "number_sections": true,
   "sideBar": true,
   "skip_h1_title": false,
   "title_cell": "Table of Contents",
   "title_sidebar": "Contents",
   "toc_cell": false,
   "toc_position": {},
   "toc_section_display": true,
   "toc_window_display": false
  }
 },
 "nbformat": 4,
 "nbformat_minor": 5
}
