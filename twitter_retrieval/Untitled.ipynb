{
 "cells": [
  {
   "cell_type": "code",
   "execution_count": 1,
   "id": "02d57e8f",
   "metadata": {},
   "outputs": [],
   "source": [
    "import tweepy\n",
    "import keyring\n",
    "import datetime\n",
    "import pandas as pd\n",
    "import numpy as np"
   ]
  },
  {
   "cell_type": "markdown",
   "id": "65bd6eba",
   "metadata": {},
   "source": [
    "## Parameters"
   ]
  },
  {
   "cell_type": "code",
   "execution_count": 2,
   "id": "0ae1c066",
   "metadata": {},
   "outputs": [],
   "source": [
    "days_to_post = 30\n",
    "# only works for 1 or 2 posts per day, since only the date of the most recent post is checked in\n",
    "# chapter 4\n",
    "posts_per_day = 2\n",
    "pics_per_day = 2\n",
    "texts_per_day = 1\n",
    "#starting_date = datetime.date(2022, 5, 9)\n",
    "starting_date = datetime.date.today()\n",
    "user_id_dog = 1483397937787023362\n",
    "user_id_cat = 0"
   ]
  },
  {
   "cell_type": "markdown",
   "id": "84810227",
   "metadata": {},
   "source": [
    "## Create data structure"
   ]
  },
  {
   "cell_type": "code",
   "execution_count": 3,
   "id": "27bb227f",
   "metadata": {},
   "outputs": [],
   "source": [
    "# create list with filenames for the dog pictures (1-60.jpg)\n",
    "dogpics = list(range(days_to_post*pics_per_day))\n",
    "for num in dogpics:\n",
    "    dogpics[num] = '../pics/dogs/'+str(num+1)+'.jpg'"
   ]
  },
  {
   "cell_type": "code",
   "execution_count": 4,
   "id": "acebb112",
   "metadata": {},
   "outputs": [],
   "source": [
    "# create list with filenames for the cat pictures (1-60.jpg)\n",
    "catpics = list(range(days_to_post*pics_per_day))\n",
    "for num in catpics:\n",
    "    catpics[num] = '../pics/cats/'+str(num+1)+'.jpg'"
   ]
  },
  {
   "cell_type": "code",
   "execution_count": 5,
   "id": "edd0c7e5",
   "metadata": {},
   "outputs": [],
   "source": [
    "# create list with dates to be posted\n",
    "# testing was only done with consecutive dates, an error may occur if the date this script is run \n",
    "# is missing in the list\n",
    "date_list = [starting_date + datetime.timedelta(days=x) for x in range(days_to_post)]\n",
    "date_list = list(np.repeat(date_list, posts_per_day))"
   ]
  },
  {
   "cell_type": "code",
   "execution_count": 6,
   "id": "04b0efab",
   "metadata": {},
   "outputs": [],
   "source": [
    "# create tweet texts for testing\n",
    "testtext = list(range(60))\n",
    "for num in testtext:\n",
    "    testtext[num] = num+1"
   ]
  },
  {
   "cell_type": "code",
   "execution_count": 7,
   "id": "5292acac",
   "metadata": {},
   "outputs": [],
   "source": [
    "# create dataframe that assigns picture-filenames and tweet-texts to dates\n",
    "dogs = pd.DataFrame(dogpics, columns=['pics'])\n",
    "# this part will be replaced by actual tweet-texts from csv/excel file\n",
    "##########################################\n",
    "dogs['text'] = testtext\n",
    "dogs['text'] = dogs.text.apply(lambda row: None if row%2!=0 else row)\n",
    "dogs['text'] = dogs.text.apply(lambda row: None if np.isnan(row) else row/2)\n",
    "dogs['text'] = dogs.text.apply(lambda row: None if np.isnan(row) else 'this is text number '+ str(int(row)))\n",
    "##########################################\n",
    "dogs['date'] = date_list"
   ]
  },
  {
   "cell_type": "code",
   "execution_count": 8,
   "id": "4ba9699d",
   "metadata": {},
   "outputs": [],
   "source": [
    "# create column that assigns the number 1 or 2 to the tweets of every day\n",
    "# this represents the post order on that date\n",
    "l = [[range(1,posts_per_day+1)]]\n",
    "l = np.repeat(l, days_to_post, axis=1)\n",
    "l = [item for sublist1 in l for sublist2 in sublist1 for item in sublist2]\n",
    "dogs['post_of_day'] = l"
   ]
  },
  {
   "cell_type": "markdown",
   "id": "ecb8ad54",
   "metadata": {},
   "source": [
    "## Twitter Authentification"
   ]
  },
  {
   "cell_type": "code",
   "execution_count": 9,
   "id": "3d33687d",
   "metadata": {},
   "outputs": [],
   "source": [
    "client = tweepy.Client(keyring.get_password('twitter','bearer_token'), keyring.get_password('twitter','api_key'), keyring.get_password('twitter','api_key_secret'), keyring.get_password('twitter','access_token'), keyring.get_password('twitter','access_token_secret'))        "
   ]
  },
  {
   "cell_type": "code",
   "execution_count": 10,
   "id": "edff0216",
   "metadata": {},
   "outputs": [],
   "source": [
    "auth = tweepy.OAuthHandler(keyring.get_password('twitter','api_key'), keyring.get_password('twitter','api_key_secret'))\n",
    "auth.set_access_token(keyring.get_password('twitter','access_token'), keyring.get_password('twitter','access_token_secret'))\n",
    "api = tweepy.API(auth)"
   ]
  },
  {
   "cell_type": "markdown",
   "id": "eb7388a4",
   "metadata": {},
   "source": [
    "## Check if this day has already been posted"
   ]
  },
  {
   "cell_type": "code",
   "execution_count": 11,
   "id": "25a3e093",
   "metadata": {},
   "outputs": [],
   "source": [
    "check = api.user_timeline(user_id=user_id_dog, count=1)"
   ]
  },
  {
   "cell_type": "code",
   "execution_count": 12,
   "id": "6b9c7b8a",
   "metadata": {},
   "outputs": [],
   "source": [
    "if check[0].created_at.date() != datetime.date.today():\n",
    "    post_of_day = 1\n",
    "else:\n",
    "    post_of_day = 2"
   ]
  },
  {
   "cell_type": "markdown",
   "id": "2de02a01",
   "metadata": {},
   "source": [
    "## Post"
   ]
  },
  {
   "cell_type": "code",
   "execution_count": 20,
   "id": "845bebcf",
   "metadata": {},
   "outputs": [],
   "source": [
    "dog_post = dogs.loc[(dogs.date == datetime.date.today()) & (dogs.post_of_day == post_of_day)]\n",
    "dog_text = dog_post.text.item()\n",
    "#client.create_tweet(text = dog_text)"
   ]
  },
  {
   "cell_type": "code",
   "execution_count": 14,
   "id": "df772206",
   "metadata": {},
   "outputs": [
    {
     "data": {
      "text/plain": [
       "Response(data={'id': '1514237341845626887', 'text': 'this is text number 1 https://t.co/KiHn0vfxy0'}, includes={}, errors=[], meta={})"
      ]
     },
     "execution_count": 14,
     "metadata": {},
     "output_type": "execute_result"
    }
   ],
   "source": [
    "dog_pic = dogs.loc[(dogs.date == datetime.date.today()) & (dogs.post_of_day == post_of_day)]['pics'].item()\n",
    "media_dog = api.media_upload(dog_pic)\n",
    "client.create_tweet(text=dog_text, media_ids=[media_dog.media_id])"
   ]
  },
  {
   "cell_type": "code",
   "execution_count": null,
   "id": "21a40a0a",
   "metadata": {},
   "outputs": [],
   "source": []
  }
 ],
 "metadata": {
  "kernelspec": {
   "display_name": "Python 3 (ipykernel)",
   "language": "python",
   "name": "python3"
  },
  "language_info": {
   "codemirror_mode": {
    "name": "ipython",
    "version": 3
   },
   "file_extension": ".py",
   "mimetype": "text/x-python",
   "name": "python",
   "nbconvert_exporter": "python",
   "pygments_lexer": "ipython3",
   "version": "3.8.12"
  },
  "toc": {
   "base_numbering": 1,
   "nav_menu": {},
   "number_sections": true,
   "sideBar": true,
   "skip_h1_title": false,
   "title_cell": "Table of Contents",
   "title_sidebar": "Contents",
   "toc_cell": false,
   "toc_position": {},
   "toc_section_display": true,
   "toc_window_display": false
  }
 },
 "nbformat": 4,
 "nbformat_minor": 5
}
