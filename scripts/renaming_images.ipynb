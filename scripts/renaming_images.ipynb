{
 "cells": [
  {
   "cell_type": "code",
   "execution_count": 8,
   "id": "3eed6b5a",
   "metadata": {},
   "outputs": [
    {
     "data": {
      "text/plain": [
       "['1.jpg',\n",
       " '10.jpg',\n",
       " '11.jpg',\n",
       " '12.jpg',\n",
       " '13.jpg',\n",
       " '14.jpg',\n",
       " '15.jpg',\n",
       " '16.jpg',\n",
       " '17.jpg',\n",
       " '18.jpg',\n",
       " '19.jpg',\n",
       " '2.jpg',\n",
       " '20.jpg',\n",
       " '21.jpg',\n",
       " '22.jpg',\n",
       " '23.jpg',\n",
       " '24.jpg',\n",
       " '25.jpg',\n",
       " '26.jpg',\n",
       " '27.jpg',\n",
       " '28.jpg',\n",
       " '29.jpg',\n",
       " '3.jpg',\n",
       " '30.jpg',\n",
       " '31.jpg',\n",
       " '32.jpg',\n",
       " '33.jpg',\n",
       " '34.jpg',\n",
       " '35.jpg',\n",
       " '36.jpg',\n",
       " '37.jpg',\n",
       " '38.jpg',\n",
       " '39.jpg',\n",
       " '4.jpg',\n",
       " '40.jpg',\n",
       " '41.jpg',\n",
       " '42.jpg',\n",
       " '43.jpg',\n",
       " '44.jpg',\n",
       " '45.jpg',\n",
       " '46.jpg',\n",
       " '47.jpg',\n",
       " '48.jpg',\n",
       " '49.jpg',\n",
       " '5.jpg',\n",
       " '50.jpg',\n",
       " '51.jpg',\n",
       " '52.jpg',\n",
       " '53.jpg',\n",
       " '54.jpg',\n",
       " '55.jpg',\n",
       " '56.jpg',\n",
       " '57.jpg',\n",
       " '58.jpg',\n",
       " '59.jpg',\n",
       " '6.jpg',\n",
       " '60.jpg',\n",
       " '7.jpg',\n",
       " '8.jpg',\n",
       " '9.jpg']"
      ]
     },
     "execution_count": 8,
     "metadata": {},
     "output_type": "execute_result"
    }
   ],
   "source": [
    "import os\n",
    "# enter path to folder here\n",
    "os.chdir(r'C:\\Users\\Leonie Schulz\\Desktop\\twitter_bot_popularity_evaluation\\content\\cats\\images')\n",
    "os.listdir('.') "
   ]
  },
  {
   "cell_type": "code",
   "execution_count": 29,
   "id": "78e89080",
   "metadata": {},
   "outputs": [],
   "source": [
    "z = 1\n",
    "for x in os.listdir('.'):\n",
    "    bezeichnung = str(z)+'.jpg'\n",
    "    z = int(z) + 1\n",
    "    #print(bezeichnung)\n",
    "    os.rename(x,bezeichnung)"
   ]
  },
  {
   "cell_type": "code",
   "execution_count": 30,
   "id": "6718ceb7",
   "metadata": {},
   "outputs": [
    {
     "data": {
      "text/plain": [
       "['1.jpg',\n",
       " '10.jpg',\n",
       " '11.jpg',\n",
       " '12.jpg',\n",
       " '13.jpg',\n",
       " '14.jpg',\n",
       " '15.jpg',\n",
       " '16.jpg',\n",
       " '17.jpg',\n",
       " '18.jpg',\n",
       " '19.jpg',\n",
       " '2.jpg',\n",
       " '20.jpg',\n",
       " '21.jpg',\n",
       " '22.jpg',\n",
       " '23.jpg',\n",
       " '24.jpg',\n",
       " '25.jpg',\n",
       " '26.jpg',\n",
       " '27.jpg',\n",
       " '28.jpg',\n",
       " '29.jpg',\n",
       " '3.jpg',\n",
       " '30.jpg',\n",
       " '31.jpg',\n",
       " '32.jpg',\n",
       " '33.jpg',\n",
       " '34.jpg',\n",
       " '35.jpg',\n",
       " '36.jpg',\n",
       " '37.jpg',\n",
       " '38.jpg',\n",
       " '39.jpg',\n",
       " '4.jpg',\n",
       " '40.jpg',\n",
       " '41.jpg',\n",
       " '42.jpg',\n",
       " '43.jpg',\n",
       " '44.jpg',\n",
       " '45.jpg',\n",
       " '46.jpg',\n",
       " '47.jpg',\n",
       " '48.jpg',\n",
       " '49.jpg',\n",
       " '5.jpg',\n",
       " '50.jpg',\n",
       " '51.jpg',\n",
       " '52.jpg',\n",
       " '53.jpg',\n",
       " '54.jpg',\n",
       " '55.jpg',\n",
       " '56.jpg',\n",
       " '57.jpg',\n",
       " '58.jpg',\n",
       " '59.jpg',\n",
       " '6.jpg',\n",
       " '60.jpg',\n",
       " '7.jpg',\n",
       " '8.jpg',\n",
       " '9.jpg']"
      ]
     },
     "execution_count": 30,
     "metadata": {},
     "output_type": "execute_result"
    }
   ],
   "source": [
    "os.listdir('.') "
   ]
  }
 ],
 "metadata": {
  "kernelspec": {
   "display_name": "Python 3 (ipykernel)",
   "language": "python",
   "name": "python3"
  },
  "language_info": {
   "codemirror_mode": {
    "name": "ipython",
    "version": 3
   },
   "file_extension": ".py",
   "mimetype": "text/x-python",
   "name": "python",
   "nbconvert_exporter": "python",
   "pygments_lexer": "ipython3",
   "version": "3.9.7"
  }
 },
 "nbformat": 4,
 "nbformat_minor": 5
}
