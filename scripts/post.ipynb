{
 "cells": [
  {
   "cell_type": "code",
   "execution_count": 1,
   "id": "943ba7f0",
   "metadata": {},
   "outputs": [],
   "source": [
    "import tweepy\n",
    "import keyring\n",
    "import datetime\n",
    "import pandas as pd\n",
    "import numpy as np\n",
    "import pickle"
   ]
  },
  {
   "cell_type": "code",
   "execution_count": 8,
   "id": "dae4a873",
   "metadata": {},
   "outputs": [
    {
     "data": {
      "text/plain": [
       "'D:\\\\Anaconda\\\\envs\\\\dis18\\\\lib\\\\site-packages\\\\numpy\\\\__init__.py'"
      ]
     },
     "execution_count": 8,
     "metadata": {},
     "output_type": "execute_result"
    }
   ],
   "source": [
    "np.__file__"
   ]
  },
  {
   "cell_type": "markdown",
   "id": "1e77178a",
   "metadata": {},
   "source": [
    "## Parameters and imports"
   ]
  },
  {
   "cell_type": "code",
   "execution_count": 16,
   "id": "f24b1d77",
   "metadata": {},
   "outputs": [],
   "source": [
    "user_id_dog = 1483397937787023362\n",
    "user_id_cat = 1514287408677806082"
   ]
  },
  {
   "cell_type": "code",
   "execution_count": 17,
   "id": "b76df80b",
   "metadata": {},
   "outputs": [],
   "source": [
    "with open('../content/dogs/posts.pickle','rb') as f:\n",
    "    dogs = pickle.load(f)\n",
    "with open('../content/cats/posts.pickle','rb') as f:\n",
    "    cats = pickle.load(f)    "
   ]
  },
  {
   "cell_type": "code",
   "execution_count": 18,
   "id": "057b66ee",
   "metadata": {},
   "outputs": [],
   "source": [
    "dogs['text'] = dogs.apply(lambda row: str(row.text) + ' ' + str(row.hashtags), axis=1)\n",
    "cats['text'] = cats.apply(lambda row: str(row.text) + ' ' + str(row.hashtags), axis=1)"
   ]
  },
  {
   "cell_type": "code",
   "execution_count": 19,
   "id": "f4bf63ce",
   "metadata": {},
   "outputs": [],
   "source": [
    "dogs['image'] = dogs.apply(lambda row: '../content/dogs/images/'+row.image, axis=1)\n",
    "cats['image'] = cats.apply(lambda row: '../content/cats/images/'+row.image, axis=1)"
   ]
  },
  {
   "cell_type": "code",
   "execution_count": 20,
   "id": "a5e82b43",
   "metadata": {},
   "outputs": [],
   "source": [
    "dogs['text'] = dogs.apply(lambda row: row.text.replace('nan ', ''), axis=1)\n",
    "cats['text'] = cats.apply(lambda row: row.text.replace('nan ', ''), axis=1)"
   ]
  },
  {
   "cell_type": "markdown",
   "id": "04db8a3c",
   "metadata": {},
   "source": [
    "## Twitter Authentification"
   ]
  },
  {
   "cell_type": "code",
   "execution_count": 21,
   "id": "81319ae4",
   "metadata": {},
   "outputs": [],
   "source": [
    "client_dog = tweepy.Client(keyring.get_password('twitter','bearer_token'), keyring.get_password('twitter','api_key'), keyring.get_password('twitter','api_key_secret'), keyring.get_password('twitter','access_token'), keyring.get_password('twitter','access_token_secret'))        "
   ]
  },
  {
   "cell_type": "code",
   "execution_count": 22,
   "id": "2c16822f",
   "metadata": {},
   "outputs": [],
   "source": [
    "client_cat = tweepy.Client(keyring.get_password('twitter','bearer_token'), keyring.get_password('twitter','api_key'), keyring.get_password('twitter','api_key_secret'), keyring.get_password('twitter','access_token_cat'), keyring.get_password('twitter','access_token_secret_cat'))"
   ]
  },
  {
   "cell_type": "code",
   "execution_count": 23,
   "id": "b2aca50e",
   "metadata": {},
   "outputs": [],
   "source": [
    "auth_dog = tweepy.OAuthHandler(keyring.get_password('twitter','api_key'), keyring.get_password('twitter','api_key_secret'))\n",
    "auth_dog.set_access_token(keyring.get_password('twitter','access_token'), keyring.get_password('twitter','access_token_secret'))\n",
    "api_dog = tweepy.API(auth_dog)"
   ]
  },
  {
   "cell_type": "code",
   "execution_count": 24,
   "id": "abe61bfc",
   "metadata": {},
   "outputs": [],
   "source": [
    "auth_cat = tweepy.OAuthHandler(keyring.get_password('twitter','api_key'), keyring.get_password('twitter','api_key_secret'))\n",
    "auth_cat.set_access_token(keyring.get_password('twitter','access_token_cat'), keyring.get_password('twitter','access_token_secret_cat'))\n",
    "api_cat = tweepy.API(auth_cat)"
   ]
  },
  {
   "cell_type": "markdown",
   "id": "315ea505",
   "metadata": {},
   "source": [
    "## Check if this day has already been posted"
   ]
  },
  {
   "cell_type": "code",
   "execution_count": 25,
   "id": "815704ac",
   "metadata": {},
   "outputs": [],
   "source": [
    "# use twitter api to return the last tweet from dog account\n",
    "dog_check = api_dog.user_timeline(user_id=user_id_dog, count=1)\n",
    "cat_check = api_cat.user_timeline(user_id=user_id_cat, count=1)"
   ]
  },
  {
   "cell_type": "code",
   "execution_count": 26,
   "id": "1c24101f",
   "metadata": {},
   "outputs": [],
   "source": [
    "# check if dog account has already tweeted today\n",
    "if dog_check == []:\n",
    "    dog_post_of_day = 1\n",
    "elif dog_check[0].created_at.date() != datetime.date.today():\n",
    "    dog_post_of_day = 1\n",
    "else:\n",
    "    dog_post_of_day = 2\n",
    "    \n",
    "# check if cat account has already tweeted today\n",
    "if cat_check == []:\n",
    "    cat_post_of_day = 1\n",
    "elif cat_check[0].created_at.date() != datetime.date.today():\n",
    "    cat_post_of_day = 1\n",
    "else:\n",
    "    cat_post_of_day = 2"
   ]
  },
  {
   "cell_type": "markdown",
   "id": "a71620e9",
   "metadata": {},
   "source": [
    "## Post"
   ]
  },
  {
   "cell_type": "code",
   "execution_count": 27,
   "id": "6d4743cd",
   "metadata": {},
   "outputs": [],
   "source": [
    "# retrieve text and picture of tweet from dataframe\n",
    "dog_post = dogs.loc[(dogs.date == datetime.date.today()) & (dogs.post_of_day == dog_post_of_day)]\n",
    "dog_text = dog_post.text.item()\n",
    "dog_pic = dog_post.image.item\n",
    "#----------------------------\n",
    "cat_post = cats.loc[(cats.date == datetime.date.today()) & (cats.post_of_day == cat_post_of_day)]\n",
    "cat_text = cat_post.text.item()\n",
    "cat_pic = cat_post.image.item"
   ]
  },
  {
   "cell_type": "code",
   "execution_count": 28,
   "id": "909e308b",
   "metadata": {},
   "outputs": [],
   "source": [
    "if dog_text == None:\n",
    "    dog_pic = dogs.loc[(dogs.date == datetime.date.today()) & (dogs.post_of_day == dog_post_of_day)]['image'].item()\n",
    "    media_dog = api_dog.media_upload(dog_pic)\n",
    "    client_dog.create_tweet(media_ids=[media_dog.media_id])\n",
    "else:\n",
    "    dog_pic = dogs.loc[(dogs.date == datetime.date.today()) & (dogs.post_of_day == dog_post_of_day)]['image'].item()\n",
    "    media_dog = api_dog.media_upload(dog_pic)\n",
    "    client_dog.create_tweet(text=dog_text, media_ids=[media_dog.media_id])\n",
    "#----------------------------\n",
    "if cat_text == None:\n",
    "    cat_pic = cats.loc[(cats.date == datetime.date.today()) & (cats.post_of_day == cat_post_of_day)]['image'].item()\n",
    "    media_cat = api_cat.media_upload(cat_pic)\n",
    "    client_cat.create_tweet(media_ids=[media_cat.media_id])\n",
    "else:\n",
    "    cat_pic = cats.loc[(cats.date == datetime.date.today()) & (cats.post_of_day == cat_post_of_day)]['image'].item()\n",
    "    media_cat = api_cat.media_upload(cat_pic)\n",
    "    client_cat.create_tweet(text=cat_text, media_ids=[media_cat.media_id])"
   ]
  },
  {
   "cell_type": "code",
   "execution_count": null,
   "id": "81ed79dd",
   "metadata": {},
   "outputs": [],
   "source": []
  },
  {
   "cell_type": "code",
   "execution_count": null,
   "id": "653f553d",
   "metadata": {},
   "outputs": [],
   "source": []
  }
 ],
 "metadata": {
  "kernelspec": {
   "display_name": "Python 3 (ipykernel)",
   "language": "python",
   "name": "python3"
  },
  "language_info": {
   "codemirror_mode": {
    "name": "ipython",
    "version": 3
   },
   "file_extension": ".py",
   "mimetype": "text/x-python",
   "name": "python",
   "nbconvert_exporter": "python",
   "pygments_lexer": "ipython3",
   "version": "3.8.12"
  },
  "toc": {
   "base_numbering": 1,
   "nav_menu": {},
   "number_sections": true,
   "sideBar": true,
   "skip_h1_title": false,
   "title_cell": "Table of Contents",
   "title_sidebar": "Contents",
   "toc_cell": false,
   "toc_position": {},
   "toc_section_display": true,
   "toc_window_display": false
  }
 },
 "nbformat": 4,
 "nbformat_minor": 5
}
