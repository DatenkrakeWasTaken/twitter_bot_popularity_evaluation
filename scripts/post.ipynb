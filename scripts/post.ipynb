{
 "cells": [
  {
   "cell_type": "code",
   "execution_count": 3,
   "id": "943ba7f0",
   "metadata": {},
   "outputs": [],
   "source": [
    "import tweepy\n",
    "import keyring\n",
    "import datetime\n",
    "import pandas as pd\n",
    "import numpy as np\n",
    "import pickle"
   ]
  },
  {
   "cell_type": "markdown",
   "id": "1e77178a",
   "metadata": {},
   "source": [
    "## Parameters and imports"
   ]
  },
  {
   "cell_type": "code",
   "execution_count": 2,
   "id": "f24b1d77",
   "metadata": {},
   "outputs": [],
   "source": [
    "days_to_post = 30\n",
    "# only works for 1 or 2 posts per day, since only the date of the most recent post is checked in\n",
    "# chapter 4\n",
    "posts_per_day = 2\n",
    "pics_per_day = 2\n",
    "texts_per_day = 1\n",
    "#starting_date = datetime.date(2022, 5, 9)\n",
    "starting_date = datetime.date.today()\n",
    "user_id_dog = 1483397937787023362\n",
    "user_id_cat = 0"
   ]
  },
  {
   "cell_type": "code",
   "execution_count": 6,
   "id": "b76df80b",
   "metadata": {},
   "outputs": [],
   "source": [
    "with open('../content/dogs/posts.pickle','rb') as f:\n",
    "    dogs = pickle.load(f)"
   ]
  },
  {
   "cell_type": "markdown",
   "id": "04db8a3c",
   "metadata": {},
   "source": [
    "## Twitter Authentification"
   ]
  },
  {
   "cell_type": "code",
   "execution_count": 9,
   "id": "81319ae4",
   "metadata": {},
   "outputs": [],
   "source": [
    "client = tweepy.Client(keyring.get_password('twitter','bearer_token'), keyring.get_password('twitter','api_key'), keyring.get_password('twitter','api_key_secret'), keyring.get_password('twitter','access_token'), keyring.get_password('twitter','access_token_secret'))        "
   ]
  },
  {
   "cell_type": "code",
   "execution_count": 10,
   "id": "b2aca50e",
   "metadata": {},
   "outputs": [],
   "source": [
    "auth = tweepy.OAuthHandler(keyring.get_password('twitter','api_key'), keyring.get_password('twitter','api_key_secret'))\n",
    "auth.set_access_token(keyring.get_password('twitter','access_token'), keyring.get_password('twitter','access_token_secret'))\n",
    "api = tweepy.API(auth)"
   ]
  },
  {
   "cell_type": "markdown",
   "id": "315ea505",
   "metadata": {},
   "source": [
    "## Check if this day has already been posted"
   ]
  },
  {
   "cell_type": "code",
   "execution_count": 25,
   "id": "815704ac",
   "metadata": {},
   "outputs": [],
   "source": [
    "# use twitter api to return the last tweet from dog account\n",
    "check = api.user_timeline(user_id=user_id_dog, count=1)"
   ]
  },
  {
   "cell_type": "code",
   "execution_count": 26,
   "id": "1c24101f",
   "metadata": {},
   "outputs": [],
   "source": [
    "# check if dog account has already tweeted today\n",
    "if check == []:\n",
    "    post_of_day = 1\n",
    "elif check[0].created_at.date() != datetime.date.today():\n",
    "    post_of_day = 1\n",
    "else:\n",
    "    post_of_day = 2"
   ]
  },
  {
   "cell_type": "markdown",
   "id": "a71620e9",
   "metadata": {},
   "source": [
    "## Post"
   ]
  },
  {
   "cell_type": "code",
   "execution_count": 27,
   "id": "6d4743cd",
   "metadata": {},
   "outputs": [],
   "source": [
    "# retrieve text and picture of tweet from dataframe\n",
    "dog_post = dogs.loc[(dogs.date == datetime.date.today()) & (dogs.post_of_day == post_of_day)]\n",
    "dog_text = dog_post.text.item()\n",
    "dog_pic = dog_post.pics.item()"
   ]
  },
  {
   "cell_type": "code",
   "execution_count": 18,
   "id": "909e308b",
   "metadata": {},
   "outputs": [],
   "source": [
    "if dog_text == None:\n",
    "    dog_pic = dogs.loc[(dogs.date == datetime.date.today()) & (dogs.post_of_day == post_of_day)]['pics'].item()\n",
    "    media_dog = api.media_upload(dog_pic)\n",
    "    client.create_tweet(media_ids=[media_dog.media_id])\n",
    "else:\n",
    "    dog_pic = dogs.loc[(dogs.date == datetime.date.today()) & (dogs.post_of_day == post_of_day)]['pics'].item()\n",
    "    media_dog = api.media_upload(dog_pic)\n",
    "    client.create_tweet(text=dog_text, media_ids=[media_dog.media_id])"
   ]
  },
  {
   "cell_type": "code",
   "execution_count": null,
   "id": "abebb70d",
   "metadata": {},
   "outputs": [],
   "source": []
  }
 ],
 "metadata": {
  "kernelspec": {
   "display_name": "Python 3 (ipykernel)",
   "language": "python",
   "name": "python3"
  },
  "language_info": {
   "codemirror_mode": {
    "name": "ipython",
    "version": 3
   },
   "file_extension": ".py",
   "mimetype": "text/x-python",
   "name": "python",
   "nbconvert_exporter": "python",
   "pygments_lexer": "ipython3",
   "version": "3.8.12"
  },
  "toc": {
   "base_numbering": 1,
   "nav_menu": {},
   "number_sections": true,
   "sideBar": true,
   "skip_h1_title": false,
   "title_cell": "Table of Contents",
   "title_sidebar": "Contents",
   "toc_cell": false,
   "toc_position": {},
   "toc_section_display": true,
   "toc_window_display": false
  }
 },
 "nbformat": 4,
 "nbformat_minor": 5
}
