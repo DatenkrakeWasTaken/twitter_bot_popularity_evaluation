{
 "cells": [
  {
   "cell_type": "code",
   "execution_count": 11,
   "id": "0719d9e2",
   "metadata": {},
   "outputs": [],
   "source": [
    "import datetime\n",
    "import pandas as pd\n",
    "import numpy as np\n",
    "import pickle"
   ]
  },
  {
   "cell_type": "markdown",
   "id": "9ac96e28",
   "metadata": {},
   "source": [
    "## Parameters"
   ]
  },
  {
   "cell_type": "code",
   "execution_count": 12,
   "id": "72bc4a98",
   "metadata": {},
   "outputs": [],
   "source": [
    "days_to_post = 30\n",
    "# only works for 1 or 2 posts per day, since only the date of the most recent post is checked\n",
    "# when deciding which content to post\n",
    "posts_per_day = 2\n",
    "pics_per_day = 2\n",
    "starting_date = datetime.date(2022, 5, 9)\n",
    "#starting_date = datetime.date.today()"
   ]
  },
  {
   "cell_type": "markdown",
   "id": "b3e7da03",
   "metadata": {},
   "source": [
    "## Code"
   ]
  },
  {
   "cell_type": "code",
   "execution_count": 13,
   "id": "ad681d33",
   "metadata": {},
   "outputs": [],
   "source": [
    "# create list with filenames for the dog pictures (1-60.jpg)\n",
    "dogpics = list(range(days_to_post*pics_per_day))\n",
    "for num in dogpics:\n",
    "    dogpics[num] = '../content/dogs/images/'+str(num+1)+'.jpg'"
   ]
  },
  {
   "cell_type": "code",
   "execution_count": 14,
   "id": "191c1cb6",
   "metadata": {},
   "outputs": [],
   "source": [
    "# create list with filenames for the cat pictures (1-60.jpg)\n",
    "catpics = list(range(days_to_post*pics_per_day))\n",
    "for num in catpics:\n",
    "    catpics[num] = '../content/cats/imgaes/'+str(num+1)+'.jpg'"
   ]
  },
  {
   "cell_type": "code",
   "execution_count": 15,
   "id": "816622c5",
   "metadata": {},
   "outputs": [],
   "source": [
    "# create list with dates to be posted\n",
    "# testing was only done with consecutive dates, an error may occur if the date this script is run \n",
    "# is missing in the list\n",
    "date_list = [starting_date + datetime.timedelta(days=x) for x in range(days_to_post)]\n",
    "date_list = list(np.repeat(date_list, posts_per_day))"
   ]
  },
  {
   "cell_type": "code",
   "execution_count": 16,
   "id": "583f4d59",
   "metadata": {},
   "outputs": [],
   "source": [
    "# create tweet texts for testing\n",
    "testtext = list(range(60))\n",
    "for num in testtext:\n",
    "    testtext[num] = num+1"
   ]
  },
  {
   "cell_type": "code",
   "execution_count": 17,
   "id": "a0985ea2",
   "metadata": {},
   "outputs": [],
   "source": [
    "# create dataframe that assigns picture-filenames and tweet-texts to dates\n",
    "##########################################\n",
    "# this part will be replaced by actual tweet-texts from csv/excel file\n",
    "dogs = pd.DataFrame(dogpics, columns=['pics'])\n",
    "dogs['text'] = testtext\n",
    "dogs['text'] = dogs.text.apply(lambda row: None if row%2!=0 else row)\n",
    "dogs['text'] = dogs.text.apply(lambda row: None if np.isnan(row) else row/2)\n",
    "dogs['text'] = dogs.text.apply(lambda row: None if np.isnan(row) else 'this is text number '+ str(int(row)))\n",
    "##########################################\n",
    "dogs = pd.read_csv('../content/dogs/content_to_post.csv', encoding='ISO-8859-1', delimiter=';')\n",
    "cats = pd.read_csv('../content/cats/content_to_post.csv', encoding='ISO-8859-1', delimiter=';')\n",
    "dogs['date'] = date_list\n",
    "cats['date'] = date_list"
   ]
  },
  {
   "cell_type": "code",
   "execution_count": 18,
   "id": "fc488dfa",
   "metadata": {},
   "outputs": [],
   "source": [
    "# create column that assigns the number 1 or 2 to the tweets of every day\n",
    "# this represents the post order on that date\n",
    "post_of_day = [[range(1,posts_per_day+1)]]\n",
    "post_of_day = np.repeat(post_of_day, days_to_post, axis=1)\n",
    "post_of_day = [item for sublist1 in post_of_day for sublist2 in sublist1 for item in sublist2]\n",
    "dogs['post_of_day'] = post_of_day\n",
    "cats['post_of_day'] = post_of_day"
   ]
  },
  {
   "cell_type": "code",
   "execution_count": 19,
   "id": "b2f15870",
   "metadata": {},
   "outputs": [],
   "source": [
    "with open('../content/dogs/posts.pickle', 'wb') as f:\n",
    "    pickle.dump(dogs, f)"
   ]
  },
  {
   "cell_type": "code",
   "execution_count": 20,
   "id": "37eac514",
   "metadata": {},
   "outputs": [],
   "source": [
    "with open('../content/cats/posts.pickle', 'wb') as f:\n",
    "    pickle.dump(cats, f)"
   ]
  },
  {
   "cell_type": "code",
   "execution_count": null,
   "id": "6c1093c4",
   "metadata": {},
   "outputs": [],
   "source": []
  },
  {
   "cell_type": "code",
   "execution_count": null,
   "id": "257b42b6",
   "metadata": {},
   "outputs": [],
   "source": []
  }
 ],
 "metadata": {
  "kernelspec": {
   "display_name": "Python 3 (ipykernel)",
   "language": "python",
   "name": "python3"
  },
  "language_info": {
   "codemirror_mode": {
    "name": "ipython",
    "version": 3
   },
   "file_extension": ".py",
   "mimetype": "text/x-python",
   "name": "python",
   "nbconvert_exporter": "python",
   "pygments_lexer": "ipython3",
   "version": "3.8.12"
  },
  "toc": {
   "base_numbering": 1,
   "nav_menu": {},
   "number_sections": true,
   "sideBar": true,
   "skip_h1_title": false,
   "title_cell": "Table of Contents",
   "title_sidebar": "Contents",
   "toc_cell": false,
   "toc_position": {},
   "toc_section_display": true,
   "toc_window_display": false
  }
 },
 "nbformat": 4,
 "nbformat_minor": 5
}
